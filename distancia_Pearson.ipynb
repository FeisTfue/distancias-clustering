{
  "nbformat": 4,
  "nbformat_minor": 0,
  "metadata": {
    "colab": {
      "provenance": [],
      "authorship_tag": "ABX9TyN0HmSJg+JTIkbZOPVEl49m",
      "include_colab_link": true
    },
    "kernelspec": {
      "name": "python3",
      "display_name": "Python 3"
    },
    "language_info": {
      "name": "python"
    }
  },
  "cells": [
    {
      "cell_type": "markdown",
      "metadata": {
        "id": "view-in-github",
        "colab_type": "text"
      },
      "source": [
        "<a href=\"https://colab.research.google.com/github/FeisTfue/distancias-clustering/blob/main/distancia_Pearson.ipynb\" target=\"_parent\"><img src=\"https://colab.research.google.com/assets/colab-badge.svg\" alt=\"Open In Colab\"/></a>"
      ]
    },
    {
      "cell_type": "markdown",
      "source": [
        "El coeficiente de Pearson (r) evalúa si dos variables numéricas tienen una relación lineal.\n",
        "\n",
        "    Si r = 1, hay una correlación positiva perfecta.\n",
        "    Si r = -1, hay una correlación negativa perfecta.\n",
        "    Si r = 0, no hay relación lineal.\n",
        "\n",
        "El valor de r te dice la fuerza y dirección de la relación. Cuanto más cerca de 1 o -1, más fuerte es la relación. Cuanto más cerca de 0, más débil es.\n"
      ],
      "metadata": {
        "id": "sH44HTVzObkM"
      }
    },
    {
      "cell_type": "markdown",
      "source": [],
      "metadata": {
        "id": "HpOTrp7gS1l1"
      }
    },
    {
      "cell_type": "code",
      "execution_count": null,
      "metadata": {
        "colab": {
          "base_uri": "https://localhost:8080/",
          "height": 490
        },
        "id": "hB5jh4lxOJT3",
        "outputId": "296573ff-dbff-44c4-f581-efb5531a7266"
      },
      "outputs": [
        {
          "output_type": "stream",
          "name": "stdout",
          "text": [
            "Coeficiente de Pearson (r): 0.9648\n"
          ]
        },
        {
          "output_type": "display_data",
          "data": {
            "text/plain": [
              "<Figure size 640x480 with 1 Axes>"
            ],
            "image/png": "[encoded data removed]"
          },
          "metadata": {}
        }
      ],
      "source": [
        "import math\n",
        "\n",
        "# Datos iniciales\n",
        "datos = [\n",
        "    (1, 185, 72),\n",
        "    (2, 170, 56),\n",
        "    (3, 168, 60),\n",
        "    (4, 179, 68),\n",
        "    (5, 182, 72),\n",
        "    (6, 188, 77)\n",
        "]\n",
        "\n",
        "# Calcular la media de X (altura) y Y (peso)\n",
        "suma_X = 0\n",
        "suma_Y = 0\n",
        "n = len(datos)\n",
        "\n",
        "for punto in datos:\n",
        "    suma_X += punto[1]\n",
        "    suma_Y += punto[2]\n",
        "\n",
        "media_X = suma_X / n\n",
        "media_Y = suma_Y / n\n",
        "\n",
        "# Calcular el numerador de la fórmula\n",
        "numerador = 0\n",
        "\n",
        "for punto in datos:\n",
        "    numerador += (punto[1] - media_X) * (punto[2] - media_Y)\n",
        "\n",
        "# Calcular la varianza de X y Y\n",
        "varianza_X = 0\n",
        "varianza_Y = 0\n",
        "\n",
        "for punto in datos:\n",
        "    varianza_X += (punto[1] - media_X) ** 2\n",
        "    varianza_Y += (punto[2] - media_Y) ** 2\n",
        "\n",
        "# Calcular el denominador de la fórmula\n",
        "denominador = math.sqrt(varianza_X) * math.sqrt(varianza_Y)\n",
        "\n",
        "# Calcular el coeficiente de correlación de Pearson (r)\n",
        "r = numerador / denominador\n",
        "\n",
        "# Mostrar el valor de r\n",
        "print(f\"Coeficiente de Pearson (r): {r:.4f}\")\n",
        "\n",
        "# Mostrar el gráfico de dispersión\n",
        "import matplotlib.pyplot as plt\n",
        "\n",
        "altura = [punto[1] for punto in datos]\n",
        "peso = [punto[2] for punto in datos]\n",
        "\n",
        "plt.scatter(altura, peso)\n",
        "plt.xlabel('Altura')\n",
        "plt.ylabel('Peso')\n",
        "plt.title('Gráfico de Dispersión')\n",
        "plt.grid(True)\n",
        "plt.show()\n",
        "\n",
        "#indica una fuerte correlación positiva entre la Y y X en los datos proporcionados"
      ]
    }
  ]
}